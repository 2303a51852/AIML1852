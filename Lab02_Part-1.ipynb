{
  "cells": [
    {
      "cell_type": "markdown",
      "metadata": {
        "id": "view-in-github",
        "colab_type": "text"
      },
      "source": [
        "<a href=\"https://colab.research.google.com/github/2303a51852/AIML1852/blob/main/Assignment-2%20%2C%20Part%201.ipynb\" target=\"_parent\"><img src=\"https://colab.research.google.com/assets/colab-badge.svg\" alt=\"Open In Colab\"/></a>"
      ]
    },
    {
      "cell_type": "code",
      "source": [
        "from collections import deque\n",
        "class Graph:\n",
        "    def __init__(self):\n",
        "        self.graph = {}\n",
        "    def add_edge(self, u, v):\n",
        "        if u not in self.graph:\n",
        "            self.graph[u] = []\n",
        "        if v not in self.graph:\n",
        "            self.graph[v] = []\n",
        "        self.graph[u].append(v)\n",
        "        self.graph[v].append(u)\n",
        "def bfs(graph, start_vertex):\n",
        "    visited = set()\n",
        "    queue = deque([start_vertex])\n",
        "    visited.add(start_vertex)\n",
        "    while queue:\n",
        "        vertex = queue.popleft()\n",
        "        print(vertex, end=' ')\n",
        "\n",
        "        for neighbor in graph.graph[vertex]:\n",
        "            if neighbor not in visited:\n",
        "                visited.add(neighbor)\n",
        "                queue.append(neighbor)\n",
        "g = Graph()\n",
        "g.add_edge(0, 1)\n",
        "g.add_edge(0, 3)\n",
        "g.add_edge(1, 2)\n",
        "g.add_edge(2, 4)\n",
        "g.add_edge(2, 5)\n",
        "g.add_edge(3, 4)\n",
        "g.add_edge(4, 5)\n",
        "# Perform BFS starting from vertex 0\n",
        "print(\"Breadth First Traversal (starting from vertex 0):\")\n",
        "bfs(g, 0)"
      ],
      "metadata": {
        "id": "9CNqdwiyMq3w",
        "outputId": "64c6ada2-e4e8-41df-de37-e2bf7d7682be",
        "colab": {
          "base_uri": "https://localhost:8080/"
        }
      },
      "execution_count": 1,
      "outputs": [
        {
          "output_type": "stream",
          "name": "stdout",
          "text": [
            "Breadth First Traversal (starting from vertex 0):\n",
            "0 1 3 2 4 5 "
          ]
        }
      ]
    }
  ],
  "metadata": {
    "colab": {
      "name": "Welcome To Colab",
      "toc_visible": true,
      "provenance": [],
      "include_colab_link": true
    },
    "kernelspec": {
      "display_name": "Python 3",
      "name": "python3"
    }
  },
  "nbformat": 4,
  "nbformat_minor": 0
}

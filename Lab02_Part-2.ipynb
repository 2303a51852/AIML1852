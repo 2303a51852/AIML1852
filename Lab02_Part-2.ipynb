{
  "nbformat": 4,
  "nbformat_minor": 0,
  "metadata": {
    "colab": {
      "provenance": [],
      "authorship_tag": "ABX9TyN932jju5UghzLVWbXeUNwY",
      "include_colab_link": true
    },
    "kernelspec": {
      "name": "python3",
      "display_name": "Python 3"
    },
    "language_info": {
      "name": "python"
    }
  },
  "cells": [
    {
      "cell_type": "markdown",
      "metadata": {
        "id": "view-in-github",
        "colab_type": "text"
      },
      "source": [
        "<a href=\"https://colab.research.google.com/github/2303a51852/AIML1852/blob/main/Assignment_2_%2C_Part_2.ipynb\" target=\"_parent\"><img src=\"https://colab.research.google.com/assets/colab-badge.svg\" alt=\"Open In Colab\"/></a>"
      ]
    },
    {
      "cell_type": "code",
      "execution_count": 1,
      "metadata": {
        "colab": {
          "base_uri": "https://localhost:8080/"
        },
        "id": "rOa71SQwSyC-",
        "outputId": "685f3ccc-79a7-455b-8394-e50d13430929"
      },
      "outputs": [
        {
          "output_type": "stream",
          "name": "stdout",
          "text": [
            "A C F G S E H D B "
          ]
        }
      ],
      "source": [
        "def DFS(graph, start_node):\n",
        "    stack = [start_node]\n",
        "    visited = set()\n",
        "    while stack:\n",
        "        current = stack.pop()\n",
        "        if current not in visited:\n",
        "            print(current, end=\" \")\n",
        "            visited.add(current)\n",
        "            for neighbor in graph[current]:\n",
        "                if neighbor not in visited:\n",
        "                    stack.append(neighbor)\n",
        "graph = {\n",
        "    'A': ['B', 'S', 'C'],\n",
        "    'B': ['A'],\n",
        "    'C': ['A', 'D', 'E', 'F'],\n",
        "    'D': ['C'],\n",
        "    'E': ['C', 'H'],\n",
        "    'F': ['C', 'G'],\n",
        "    'G': ['S', 'F'],\n",
        "    'H': ['E'],\n",
        "    'S': ['A', 'G']\n",
        "}\n",
        "DFS(graph, 'A')\n"
      ]
    }
  ]
}

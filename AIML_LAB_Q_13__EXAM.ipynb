{
  "nbformat": 4,
  "nbformat_minor": 0,
  "metadata": {
    "colab": {
      "provenance": [],
      "authorship_tag": "ABX9TyN5eikDfyU8a9BAjZ/3uStI",
      "include_colab_link": true
    },
    "kernelspec": {
      "name": "python3",
      "display_name": "Python 3"
    },
    "language_info": {
      "name": "python"
    }
  },
  "cells": [
    {
      "cell_type": "markdown",
      "metadata": {
        "id": "view-in-github",
        "colab_type": "text"
      },
      "source": [
        "<a href=\"https://colab.research.google.com/github/2303a51852/AIML1852/blob/main/AIML_LAB_Q_13__EXAM.ipynb\" target=\"_parent\"><img src=\"https://colab.research.google.com/assets/colab-badge.svg\" alt=\"Open In Colab\"/></a>"
      ]
    },
    {
      "cell_type": "markdown",
      "source": [
        "Q.13)Prediction of Bike rentals and sharing\n",
        "1. Identify the top 5 days when rentals are most\n",
        "2. Predict the holidays when bike sharing was most\n",
        "3. Top 5 reasons for bike sharing or rentals\n",
        "4. Name the weather condition most suitable for bike rentals\n",
        "5. Identify the hourly utilisation of bike rentals and sharing the\n",
        "most."
      ],
      "metadata": {
        "id": "ERE4-Tx_0ejI"
      }
    },
    {
      "cell_type": "code",
      "source": [
        "import pandas as pd\n",
        "\n",
        "# Load the dataset (replace with the correct path to your file if needed)\n",
        "day_data = pd.read_csv('/content/day1.csv')\n",
        "\n",
        "# 1. Identify the Top 5 Days When Rentals Are the Most\n",
        "top_5_days = day_data.nlargest(5, 'cnt')[['dteday', 'cnt']]\n",
        "print(\"Top 5 Days with Most Rentals:\")\n",
        "print(top_5_days)"
      ],
      "metadata": {
        "colab": {
          "base_uri": "https://localhost:8080/"
        },
        "id": "7oIC0FLz4eiO",
        "outputId": "388b88ff-bfae-45df-c949-7ff5a50e613f"
      },
      "execution_count": 23,
      "outputs": [
        {
          "output_type": "stream",
          "name": "stdout",
          "text": [
            "Top 5 Days with Most Rentals:\n",
            "         dteday   cnt\n",
            "623  15-09-2012  8714\n",
            "637  29-09-2012  8555\n",
            "630  22-09-2012  8395\n",
            "447  23-03-2012  8362\n",
            "504  19-05-2012  8294\n"
          ]
        }
      ]
    },
    {
      "cell_type": "code",
      "source": [
        "\n",
        "# 2. Predict the Holidays When Bike Sharing Was Most\n",
        "top_holidays = day_data[day_data['holiday'] == 1].nlargest(5, 'cnt')[['dteday', 'cnt']]\n",
        "print(\"\\nTop Holidays with the Most Rentals:\")\n",
        "print(top_holidays)"
      ],
      "metadata": {
        "colab": {
          "base_uri": "https://localhost:8080/"
        },
        "id": "WJcq8_B24moF",
        "outputId": "28bbfb2d-6d4f-430b-cc6e-854372c988e8"
      },
      "execution_count": 24,
      "outputs": [
        {
          "output_type": "stream",
          "name": "stdout",
          "text": [
            "\n",
            "Top Holidays with the Most Rentals:\n",
            "         dteday   cnt\n",
            "550  04-07-2012  7403\n",
            "471  16-04-2012  6370\n",
            "681  12-11-2012  6269\n",
            "184  04-07-2011  6043\n",
            "513  28-05-2012  6043\n"
          ]
        }
      ]
    },
    {
      "cell_type": "code",
      "source": [
        "# 3. Top 5 Reasons for Bike Sharing or Rentals\n",
        "# Aggregate rentals by weather, working day, and season\n",
        "reasons = day_data.groupby(['weathersit', 'workingday', 'season'])['cnt'].mean().reset_index()\n",
        "reasons_sorted = reasons.sort_values(by='cnt', ascending=False).head(5)\n",
        "print(\"\\nTop 5 Reasons for Rentals:\")\n",
        "print(reasons_sorted)"
      ],
      "metadata": {
        "colab": {
          "base_uri": "https://localhost:8080/"
        },
        "id": "JrH13vfS4p7A",
        "outputId": "36be390a-f6fd-4452-d792-5418c7117d06"
      },
      "execution_count": 25,
      "outputs": [
        {
          "output_type": "stream",
          "name": "stdout",
          "text": [
            "\n",
            "Top 5 Reasons for Rentals:\n",
            "    weathersit  workingday  season          cnt\n",
            "6            1           1       3  5961.237113\n",
            "1            1           0       2  5821.194444\n",
            "2            1           0       3  5671.871795\n",
            "5            1           1       2  5421.077922\n",
            "14           2           1       3  5299.516129\n"
          ]
        }
      ]
    },
    {
      "cell_type": "code",
      "source": [
        "\n",
        "# 4. Name the Weather Condition Most Suitable for Bike Rentals\n",
        "weather_condition = day_data.groupby('weathersit')['cnt'].mean().reset_index()\n",
        "best_weather = weather_condition.sort_values(by='cnt', ascending=False).iloc[0]\n",
        "print(f\"\\nMost Suitable Weather Condition: {best_weather}\")"
      ],
      "metadata": {
        "colab": {
          "base_uri": "https://localhost:8080/"
        },
        "id": "aU2VVX4S4uVa",
        "outputId": "a39dd615-cc7f-44e6-b73b-76b418170154"
      },
      "execution_count": 26,
      "outputs": [
        {
          "output_type": "stream",
          "name": "stdout",
          "text": [
            "\n",
            "Most Suitable Weather Condition: weathersit       1.000000\n",
            "cnt           4876.786177\n",
            "Name: 0, dtype: float64\n"
          ]
        }
      ]
    },
    {
      "cell_type": "code",
      "source": [
        "# 5. Identify the Hourly Utilization of Bike Rentals and Sharing the Most\n",
        "\n",
        "hour_data = pd.read_csv('/content/path.csv')  # Replace with your actual path\n",
        "\n",
        "hourly_usage = hour_data.groupby('hr')['cnt'].mean().reset_index()\n",
        "peak_hour = hourly_usage.sort_values(by='cnt', ascending=False).iloc[0]\n",
        "print(f\"\\nPeak Hour for Rentals: {peak_hour}\")"
      ],
      "metadata": {
        "colab": {
          "base_uri": "https://localhost:8080/"
        },
        "id": "u2Tp_cZg4xUH",
        "outputId": "1fe540f4-72f7-4f75-dbaa-e454fbbd8cf5"
      },
      "execution_count": 27,
      "outputs": [
        {
          "output_type": "stream",
          "name": "stdout",
          "text": [
            "\n",
            "Peak Hour for Rentals: hr      17.000000\n",
            "cnt    461.452055\n",
            "Name: 17, dtype: float64\n"
          ]
        }
      ]
    }
  ]
}
{
  "nbformat": 4,
  "nbformat_minor": 0,
  "metadata": {
    "colab": {
      "provenance": [],
      "authorship_tag": "ABX9TyNtWwwSvHVOHIEgBkuGdqmw",
      "include_colab_link": true
    },
    "kernelspec": {
      "name": "python3",
      "display_name": "Python 3"
    },
    "language_info": {
      "name": "python"
    }
  },
  "cells": [
    {
      "cell_type": "markdown",
      "metadata": {
        "id": "view-in-github",
        "colab_type": "text"
      },
      "source": [
        "<a href=\"https://colab.research.google.com/github/2303a51852/AIML1852/blob/main/LAB_1_sol-01.ipynb\" target=\"_parent\"><img src=\"https://colab.research.google.com/assets/colab-badge.svg\" alt=\"Open In Colab\"/></a>"
      ]
    },
    {
      "cell_type": "code",
      "execution_count": 1,
      "metadata": {
        "colab": {
          "base_uri": "https://localhost:8080/"
        },
        "id": "x06MgMxMRjnz",
        "outputId": "b27b933e-a9b8-4cc9-a31f-f64716f4a0a4"
      },
      "outputs": [
        {
          "output_type": "stream",
          "name": "stdout",
          "text": [
            "List 1: [1, 2, 3, 4, 5]\n",
            "Type of list1: <class 'list'>\n",
            "List 2: [10, 20, 30, 40, 50]\n",
            "Type of list2: <class 'list'>\n",
            "\n",
            "Array 1: [1 2 3 4 5]\n",
            "Type of array1: <class 'numpy.ndarray'>\n",
            "Array 2: [10 20 30 40 50]\n",
            "Type of array2: <class 'numpy.ndarray'>\n",
            "\n",
            "Multiplication of array1 and array2: [ 10  40  90 160 250]\n",
            "Division of array1 by array2: [0.1 0.1 0.1 0.1 0.1]\n",
            "Array1 raised to the power of 2: [ 1  4  9 16 25]\n",
            "\n",
            "Addition of Two: [11 22 33 44 55]\n",
            "\n",
            "Sine of array1: [ 0.84147098  0.90929743  0.14112001 -0.7568025  -0.95892427]\n",
            "Natural log of array1: [0.         0.69314718 1.09861229 1.38629436 1.60943791]\n",
            "Base-2 log of array1: [0.         1.         1.5849625  2.         2.32192809]\n",
            "Exponential of array1: [  2.71828183   7.3890561   20.08553692  54.59815003 148.4131591 ]\n"
          ]
        }
      ],
      "source": [
        "import numpy as np\n",
        "import pandas as pd\n",
        "\n",
        "# 1. Creating Lists\n",
        "list1 = [1, 2, 3, 4, 5]\n",
        "list2 = [10, 20, 30, 40, 50]\n",
        "\n",
        "# Printing the lists and their types\n",
        "print(\"List 1:\", list1)\n",
        "print(\"Type of list1:\", type(list1))\n",
        "\n",
        "print(\"List 2:\", list2)\n",
        "print(\"Type of list2:\", type(list2))\n",
        "\n",
        "# 2. Converting Lists to Numpy Arrays\n",
        "array1 = np.array(list1)\n",
        "array2 = np.array(list2)\n",
        "\n",
        "# Printing the arrays and their types\n",
        "print(\"\\nArray 1:\", array1)\n",
        "print(\"Type of array1:\", type(array1))\n",
        "\n",
        "print(\"Array 2:\", array2)\n",
        "print(\"Type of array2:\", type(array2))\n",
        "\n",
        "# 3. Performing Mathematical Operations\n",
        "# Multiplication of arrays\n",
        "multiplication = array1 * array2\n",
        "print(\"\\nMultiplication of array1 and array2:\", multiplication)\n",
        "\n",
        "# Division of arrays\n",
        "division = array1 / array2\n",
        "print(\"Division of array1 by array2:\", division)\n",
        "\n",
        "# Power of arrays (array1 raised to the power of array2)\n",
        "power = array1 ** 2\n",
        "print(\"Array1 raised to the power of 2:\", power)\n",
        "\n",
        "# 4. Combining Text with Numpy Function to Generate Textual Output\n",
        "combined_text = f\"Addition of Two: {array1 + array2}\"\n",
        "print(\"\\n\" + combined_text)\n",
        "\n",
        "# 5. Implementing np.sin(), np.log(), np.log2(), np.exp()\n",
        "\n",
        "# Sine of array1\n",
        "sine = np.sin(array1)\n",
        "print(\"\\nSine of array1:\", sine)\n",
        "\n",
        "# Natural log of array1\n",
        "logarithm = np.log(array1)\n",
        "print(\"Natural log of array1:\", logarithm)\n",
        "\n",
        "# Base-2 log of array1\n",
        "log2 = np.log2(array1)\n",
        "print(\"Base-2 log of array1:\", log2)\n",
        "\n",
        "# Exponential of array1\n",
        "exponential = np.exp(array1)\n",
        "print(\"Exponential of array1:\", exponential)"
      ]
    }
  ]
}
